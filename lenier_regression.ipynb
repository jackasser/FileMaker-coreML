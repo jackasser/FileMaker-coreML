{
  "nbformat": 4,
  "nbformat_minor": 0,
  "metadata": {
    "kernelspec": {
      "display_name": "Python 3",
      "language": "python",
      "name": "python3"
    },
    "language_info": {
      "codemirror_mode": {
        "name": "ipython",
        "version": 3
      },
      "file_extension": ".py",
      "mimetype": "text/x-python",
      "name": "python",
      "nbconvert_exporter": "python",
      "pygments_lexer": "ipython3",
      "version": "3.9.4"
    },
    "colab": {
      "name": "lenier_regression.ipynb",
      "provenance": [],
      "include_colab_link": true
    }
  },
  "cells": [
    {
      "cell_type": "markdown",
      "metadata": {
        "id": "view-in-github",
        "colab_type": "text"
      },
      "source": [
        "<a href=\"https://colab.research.google.com/github/jackasser/FileMaker-coreML/blob/main/lenier_regression.ipynb\" target=\"_parent\"><img src=\"https://colab.research.google.com/assets/colab-badge.svg\" alt=\"Open In Colab\"/></a>"
      ]
    },
    {
      "cell_type": "code",
      "metadata": {
        "colab": {
          "base_uri": "https://localhost:8080/"
        },
        "id": "1WaBHfE72Ems",
        "outputId": "d8d72982-6c92-4b88-aa7c-8e49703df68d"
      },
      "source": [
        "!pip install coremltools"
      ],
      "execution_count": 5,
      "outputs": [
        {
          "output_type": "stream",
          "name": "stdout",
          "text": [
            "Collecting coremltools\n",
            "  Downloading coremltools-5.1.0-cp37-none-manylinux1_x86_64.whl (1.6 MB)\n",
            "\u001b[K     |████████████████████████████████| 1.6 MB 4.1 MB/s \n",
            "\u001b[?25hRequirement already satisfied: protobuf>=3.1.0 in /usr/local/lib/python3.7/dist-packages (from coremltools) (3.17.3)\n",
            "Requirement already satisfied: packaging in /usr/local/lib/python3.7/dist-packages (from coremltools) (21.2)\n",
            "Requirement already satisfied: tqdm in /usr/local/lib/python3.7/dist-packages (from coremltools) (4.62.3)\n",
            "Requirement already satisfied: numpy>=1.14.5 in /usr/local/lib/python3.7/dist-packages (from coremltools) (1.19.5)\n",
            "Requirement already satisfied: sympy in /usr/local/lib/python3.7/dist-packages (from coremltools) (1.7.1)\n",
            "Requirement already satisfied: six>=1.9 in /usr/local/lib/python3.7/dist-packages (from protobuf>=3.1.0->coremltools) (1.15.0)\n",
            "Requirement already satisfied: pyparsing<3,>=2.0.2 in /usr/local/lib/python3.7/dist-packages (from packaging->coremltools) (2.4.7)\n",
            "Requirement already satisfied: mpmath>=0.19 in /usr/local/lib/python3.7/dist-packages (from sympy->coremltools) (1.2.1)\n",
            "Installing collected packages: coremltools\n",
            "Successfully installed coremltools-5.1.0\n"
          ]
        }
      ]
    },
    {
      "cell_type": "code",
      "metadata": {
        "colab": {
          "base_uri": "https://localhost:8080/",
          "height": 331
        },
        "id": "T56yic-Q14vH",
        "outputId": "dfa15ef6-3f95-45df-83ad-6df977fd9041"
      },
      "source": [
        "!pip install --force-reinstall 'scikit-learn==0.19.2' "
      ],
      "execution_count": 25,
      "outputs": [
        {
          "output_type": "stream",
          "name": "stdout",
          "text": [
            "Collecting scikit-learn==0.19.2\n",
            "  Downloading scikit_learn-0.19.2-cp37-cp37m-manylinux1_x86_64.whl (4.9 MB)\n",
            "\u001b[K     |████████████████████████████████| 4.9 MB 4.1 MB/s \n",
            "\u001b[?25hInstalling collected packages: scikit-learn\n",
            "  Attempting uninstall: scikit-learn\n",
            "    Found existing installation: scikit-learn 0.22.2.post1\n",
            "    Uninstalling scikit-learn-0.22.2.post1:\n",
            "      Successfully uninstalled scikit-learn-0.22.2.post1\n",
            "\u001b[31mERROR: pip's dependency resolver does not currently take into account all the packages that are installed. This behaviour is the source of the following dependency conflicts.\n",
            "yellowbrick 0.9.1 requires scikit-learn>=0.20, but you have scikit-learn 0.19.2 which is incompatible.\n",
            "imbalanced-learn 0.4.3 requires scikit-learn>=0.20, but you have scikit-learn 0.19.2 which is incompatible.\u001b[0m\n",
            "Successfully installed scikit-learn-0.19.2\n"
          ]
        },
        {
          "output_type": "display_data",
          "data": {
            "application/vnd.colab-display-data+json": {
              "pip_warning": {
                "packages": [
                  "sklearn"
                ]
              }
            }
          },
          "metadata": {}
        }
      ]
    },
    {
      "cell_type": "code",
      "metadata": {
        "colab": {
          "base_uri": "https://localhost:8080/"
        },
        "id": "SP6V7GKC7iLI",
        "outputId": "f216330b-e4e9-44c2-e793-471cf687e876"
      },
      "source": [
        "# 使用するデータのダウンロード\n",
        "!git clone https://github.com/jackasser/FileMaker-coreML.git"
      ],
      "execution_count": 19,
      "outputs": [
        {
          "output_type": "stream",
          "name": "stdout",
          "text": [
            "Cloning into 'FileMaker-coreML'...\n",
            "remote: Enumerating objects: 7, done.\u001b[K\n",
            "remote: Counting objects: 100% (7/7), done.\u001b[K\n",
            "remote: Compressing objects: 100% (7/7), done.\u001b[K\n",
            "remote: Total 7 (delta 1), reused 0 (delta 0), pack-reused 0\u001b[K\n",
            "Unpacking objects: 100% (7/7), done.\n"
          ]
        }
      ]
    },
    {
      "cell_type": "code",
      "metadata": {
        "colab": {
          "base_uri": "https://localhost:8080/"
        },
        "id": "br7h3MSD14vE",
        "outputId": "425becb1-7990-44fd-bf22-c8ac67f706c0"
      },
      "source": [
        "import pandas as pd\n",
        "from sklearn.linear_model import LinearRegression\n",
        "import matplotlib.pyplot as plt\n",
        "from sklearn.model_selection import train_test_split\n",
        "from sklearn.ensemble import RandomForestClassifier\n",
        "from sklearn.metrics import accuracy_score\n",
        "import coremltools"
      ],
      "execution_count": 1,
      "outputs": [
        {
          "output_type": "stream",
          "name": "stderr",
          "text": [
            "/usr/local/lib/python3.7/dist-packages/sklearn/ensemble/weight_boosting.py:29: DeprecationWarning: numpy.core.umath_tests is an internal NumPy module and should not be imported. It will be removed in a future NumPy release.\n",
            "  from numpy.core.umath_tests import inner1d\n",
            "WARNING:root:TensorFlow version 2.7.0 has not been tested with coremltools. You may run into unexpected errors. TensorFlow 2.5.0 is the most recent version that has been tested.\n",
            "WARNING:root:Keras version 2.7.0 has not been tested with coremltools. You may run into unexpected errors. Keras 2.2.4 is the most recent version that has been tested.\n"
          ]
        }
      ]
    },
    {
      "cell_type": "code",
      "metadata": {
        "id": "f9KahTOzAtII"
      },
      "source": [
        "%matplotlib inline\n",
        "\n",
        "# データの読み込み\n",
        "df_data = pd.read_csv(\"/content/FileMaker-coreML/取り込み用.csv\")\n"
      ],
      "execution_count": 43,
      "outputs": []
    },
    {
      "cell_type": "code",
      "metadata": {
        "colab": {
          "base_uri": "https://localhost:8080/",
          "height": 204
        },
        "id": "g6wflhBFAtQj",
        "outputId": "30296395-ca7d-494e-f213-abc80b9d783b"
      },
      "source": [
        "# データ確認\n",
        "df_data.head()"
      ],
      "execution_count": 44,
      "outputs": [
        {
          "output_type": "execute_result",
          "data": {
            "text/html": [
              "<div>\n",
              "<style scoped>\n",
              "    .dataframe tbody tr th:only-of-type {\n",
              "        vertical-align: middle;\n",
              "    }\n",
              "\n",
              "    .dataframe tbody tr th {\n",
              "        vertical-align: top;\n",
              "    }\n",
              "\n",
              "    .dataframe thead th {\n",
              "        text-align: right;\n",
              "    }\n",
              "</style>\n",
              "<table border=\"1\" class=\"dataframe\">\n",
              "  <thead>\n",
              "    <tr style=\"text-align: right;\">\n",
              "      <th></th>\n",
              "      <th>記録日</th>\n",
              "      <th>作物PK</th>\n",
              "      <th>気温</th>\n",
              "      <th>湿度</th>\n",
              "      <th>土中湿度</th>\n",
              "      <th>元気</th>\n",
              "    </tr>\n",
              "  </thead>\n",
              "  <tbody>\n",
              "    <tr>\n",
              "      <th>0</th>\n",
              "      <td>2021/06/28 8:50:30</td>\n",
              "      <td>FAF90C9F-794A-46F2-A538-AA8B2897848D</td>\n",
              "      <td>26.6</td>\n",
              "      <td>51.68</td>\n",
              "      <td>66</td>\n",
              "      <td>2</td>\n",
              "    </tr>\n",
              "    <tr>\n",
              "      <th>1</th>\n",
              "      <td>2021/06/28 11:49:34</td>\n",
              "      <td>FAF90C9F-794A-46F2-A538-AA8B2897848D</td>\n",
              "      <td>25.0</td>\n",
              "      <td>56.25</td>\n",
              "      <td>54</td>\n",
              "      <td>0</td>\n",
              "    </tr>\n",
              "    <tr>\n",
              "      <th>2</th>\n",
              "      <td>2021/06/28 12:19:40</td>\n",
              "      <td>FAF90C9F-794A-46F2-A538-AA8B2897848D</td>\n",
              "      <td>25.0</td>\n",
              "      <td>55.98</td>\n",
              "      <td>64</td>\n",
              "      <td>1</td>\n",
              "    </tr>\n",
              "    <tr>\n",
              "      <th>3</th>\n",
              "      <td>2021/06/28 12:49:47</td>\n",
              "      <td>FAF90C9F-794A-46F2-A538-AA8B2897848D</td>\n",
              "      <td>25.0</td>\n",
              "      <td>55.81</td>\n",
              "      <td>64</td>\n",
              "      <td>1</td>\n",
              "    </tr>\n",
              "    <tr>\n",
              "      <th>4</th>\n",
              "      <td>2021/06/28 13:19:53</td>\n",
              "      <td>FAF90C9F-794A-46F2-A538-AA8B2897848D</td>\n",
              "      <td>24.8</td>\n",
              "      <td>55.47</td>\n",
              "      <td>64</td>\n",
              "      <td>1</td>\n",
              "    </tr>\n",
              "  </tbody>\n",
              "</table>\n",
              "</div>"
            ],
            "text/plain": [
              "                   記録日                                  作物PK  ...  土中湿度  元気\n",
              "0   2021/06/28 8:50:30  FAF90C9F-794A-46F2-A538-AA8B2897848D  ...    66   2\n",
              "1  2021/06/28 11:49:34  FAF90C9F-794A-46F2-A538-AA8B2897848D  ...    54   0\n",
              "2  2021/06/28 12:19:40  FAF90C9F-794A-46F2-A538-AA8B2897848D  ...    64   1\n",
              "3  2021/06/28 12:49:47  FAF90C9F-794A-46F2-A538-AA8B2897848D  ...    64   1\n",
              "4  2021/06/28 13:19:53  FAF90C9F-794A-46F2-A538-AA8B2897848D  ...    64   1\n",
              "\n",
              "[5 rows x 6 columns]"
            ]
          },
          "metadata": {},
          "execution_count": 44
        }
      ]
    },
    {
      "cell_type": "code",
      "metadata": {
        "colab": {
          "base_uri": "https://localhost:8080/"
        },
        "id": "pJw3ZPvKAtSp",
        "outputId": "70dee600-ceec-4522-c1e7-b3a73d5dddee"
      },
      "source": [
        "# データ情報\n",
        "df_data.info()"
      ],
      "execution_count": 17,
      "outputs": [
        {
          "output_type": "stream",
          "name": "stdout",
          "text": [
            "<class 'pandas.core.frame.DataFrame'>\n",
            "RangeIndex: 1391 entries, 0 to 1390\n",
            "Data columns (total 5 columns):\n",
            " #   Column  Non-Null Count  Dtype  \n",
            "---  ------  --------------  -----  \n",
            " 0   記録日     1391 non-null   object \n",
            " 1   作物PK    1391 non-null   object \n",
            " 2   気温      1391 non-null   float64\n",
            " 3   湿度      1391 non-null   float64\n",
            " 4   土中湿度    1391 non-null   int64  \n",
            "dtypes: float64(2), int64(1), object(2)\n",
            "memory usage: 54.5+ KB\n"
          ]
        }
      ]
    },
    {
      "cell_type": "code",
      "metadata": {
        "colab": {
          "base_uri": "https://localhost:8080/",
          "height": 297
        },
        "id": "pwb0l5nmA4c3",
        "outputId": "55d03027-2477-4f11-e9bc-c9a1f0e70cb4"
      },
      "source": [
        "# データの統計情報\n",
        "df_data.describe()"
      ],
      "execution_count": 18,
      "outputs": [
        {
          "output_type": "execute_result",
          "data": {
            "text/html": [
              "<div>\n",
              "<style scoped>\n",
              "    .dataframe tbody tr th:only-of-type {\n",
              "        vertical-align: middle;\n",
              "    }\n",
              "\n",
              "    .dataframe tbody tr th {\n",
              "        vertical-align: top;\n",
              "    }\n",
              "\n",
              "    .dataframe thead th {\n",
              "        text-align: right;\n",
              "    }\n",
              "</style>\n",
              "<table border=\"1\" class=\"dataframe\">\n",
              "  <thead>\n",
              "    <tr style=\"text-align: right;\">\n",
              "      <th></th>\n",
              "      <th>気温</th>\n",
              "      <th>湿度</th>\n",
              "      <th>土中湿度</th>\n",
              "    </tr>\n",
              "  </thead>\n",
              "  <tbody>\n",
              "    <tr>\n",
              "      <th>count</th>\n",
              "      <td>1391.000000</td>\n",
              "      <td>1391.000000</td>\n",
              "      <td>1391.000000</td>\n",
              "    </tr>\n",
              "    <tr>\n",
              "      <th>mean</th>\n",
              "      <td>26.315457</td>\n",
              "      <td>50.335953</td>\n",
              "      <td>80.907261</td>\n",
              "    </tr>\n",
              "    <tr>\n",
              "      <th>std</th>\n",
              "      <td>1.278353</td>\n",
              "      <td>25.600224</td>\n",
              "      <td>9.738710</td>\n",
              "    </tr>\n",
              "    <tr>\n",
              "      <th>min</th>\n",
              "      <td>22.600000</td>\n",
              "      <td>-87.000000</td>\n",
              "      <td>53.000000</td>\n",
              "    </tr>\n",
              "    <tr>\n",
              "      <th>25%</th>\n",
              "      <td>25.300000</td>\n",
              "      <td>38.820000</td>\n",
              "      <td>74.000000</td>\n",
              "    </tr>\n",
              "    <tr>\n",
              "      <th>50%</th>\n",
              "      <td>26.400000</td>\n",
              "      <td>49.000000</td>\n",
              "      <td>80.000000</td>\n",
              "    </tr>\n",
              "    <tr>\n",
              "      <th>75%</th>\n",
              "      <td>27.200000</td>\n",
              "      <td>62.000000</td>\n",
              "      <td>90.000000</td>\n",
              "    </tr>\n",
              "    <tr>\n",
              "      <th>max</th>\n",
              "      <td>29.400000</td>\n",
              "      <td>153.000000</td>\n",
              "      <td>95.000000</td>\n",
              "    </tr>\n",
              "  </tbody>\n",
              "</table>\n",
              "</div>"
            ],
            "text/plain": [
              "                気温           湿度         土中湿度\n",
              "count  1391.000000  1391.000000  1391.000000\n",
              "mean     26.315457    50.335953    80.907261\n",
              "std       1.278353    25.600224     9.738710\n",
              "min      22.600000   -87.000000    53.000000\n",
              "25%      25.300000    38.820000    74.000000\n",
              "50%      26.400000    49.000000    80.000000\n",
              "75%      27.200000    62.000000    90.000000\n",
              "max      29.400000   153.000000    95.000000"
            ]
          },
          "metadata": {},
          "execution_count": 18
        }
      ]
    },
    {
      "cell_type": "code",
      "metadata": {
        "colab": {
          "base_uri": "https://localhost:8080/",
          "height": 265
        },
        "id": "SSochBfYA8kt",
        "outputId": "94a21305-765c-45f2-91bd-2cc93628359e"
      },
      "source": [
        "# ↑湿度の最小値(min）と最大値（max）がおかしい\n",
        "\n",
        "\n",
        "# データを折線グラフで可視化\n",
        "plt.plot(df_data.記録日, df_data.気温, color = 'red', marker = 'o')\n",
        "plt.plot(df_data.記録日, df_data.湿度, color = 'blue', marker = 'o')\n",
        "plt.plot(df_data.記録日, df_data.土中湿度, color = 'black', marker = 'o')\n",
        "plt.show()\n"
      ],
      "execution_count": 19,
      "outputs": [
        {
          "output_type": "display_data",
          "data": {
            "image/png": "[encoded data removed]",
            "text/plain": [
              "<Figure size 432x288 with 1 Axes>"
            ]
          },
          "metadata": {
            "needs_background": "light"
          }
        }
      ]
    },
    {
      "cell_type": "code",
      "metadata": {
        "id": "KEhrqmEfA8nh"
      },
      "source": [
        "# ↑湿度に外れ値があるため外れ値を削除する\n",
        "\n",
        "# 値を大きい順にならべたときに小さい方から１０％の順番の値をqに代入\n",
        "q=df_data.湿度.quantile(0.1)\n",
        "# qより小さい値は外れ値として除外\n",
        "new_df = df_data.query('湿度>@q')\n",
        "# 湿度が100を超えて記録されているものは外れ値として除外\n",
        "new_df = new_df.query('湿度<100')"
      ],
      "execution_count": 20,
      "outputs": []
    },
    {
      "cell_type": "code",
      "metadata": {
        "colab": {
          "base_uri": "https://localhost:8080/",
          "height": 297
        },
        "id": "y4jsJ7YeBye0",
        "outputId": "61a6b23f-6a61-4b24-a13c-5fc16c38dba2"
      },
      "source": [
        "# 整形後のデータの統計情報を表示\n",
        "new_df.describe()"
      ],
      "execution_count": 21,
      "outputs": [
        {
          "output_type": "execute_result",
          "data": {
            "text/html": [
              "<div>\n",
              "<style scoped>\n",
              "    .dataframe tbody tr th:only-of-type {\n",
              "        vertical-align: middle;\n",
              "    }\n",
              "\n",
              "    .dataframe tbody tr th {\n",
              "        vertical-align: top;\n",
              "    }\n",
              "\n",
              "    .dataframe thead th {\n",
              "        text-align: right;\n",
              "    }\n",
              "</style>\n",
              "<table border=\"1\" class=\"dataframe\">\n",
              "  <thead>\n",
              "    <tr style=\"text-align: right;\">\n",
              "      <th></th>\n",
              "      <th>気温</th>\n",
              "      <th>湿度</th>\n",
              "      <th>土中湿度</th>\n",
              "    </tr>\n",
              "  </thead>\n",
              "  <tbody>\n",
              "    <tr>\n",
              "      <th>count</th>\n",
              "      <td>1184.000000</td>\n",
              "      <td>1184.000000</td>\n",
              "      <td>1184.000000</td>\n",
              "    </tr>\n",
              "    <tr>\n",
              "      <th>mean</th>\n",
              "      <td>26.355236</td>\n",
              "      <td>52.078454</td>\n",
              "      <td>81.447635</td>\n",
              "    </tr>\n",
              "    <tr>\n",
              "      <th>std</th>\n",
              "      <td>1.252193</td>\n",
              "      <td>15.220931</td>\n",
              "      <td>9.700884</td>\n",
              "    </tr>\n",
              "    <tr>\n",
              "      <th>min</th>\n",
              "      <td>23.300000</td>\n",
              "      <td>22.340000</td>\n",
              "      <td>54.000000</td>\n",
              "    </tr>\n",
              "    <tr>\n",
              "      <th>25%</th>\n",
              "      <td>25.400000</td>\n",
              "      <td>42.820000</td>\n",
              "      <td>74.000000</td>\n",
              "    </tr>\n",
              "    <tr>\n",
              "      <th>50%</th>\n",
              "      <td>26.400000</td>\n",
              "      <td>50.280000</td>\n",
              "      <td>81.000000</td>\n",
              "    </tr>\n",
              "    <tr>\n",
              "      <th>75%</th>\n",
              "      <td>27.300000</td>\n",
              "      <td>61.000000</td>\n",
              "      <td>90.000000</td>\n",
              "    </tr>\n",
              "    <tr>\n",
              "      <th>max</th>\n",
              "      <td>29.400000</td>\n",
              "      <td>99.000000</td>\n",
              "      <td>95.000000</td>\n",
              "    </tr>\n",
              "  </tbody>\n",
              "</table>\n",
              "</div>"
            ],
            "text/plain": [
              "                気温           湿度         土中湿度\n",
              "count  1184.000000  1184.000000  1184.000000\n",
              "mean     26.355236    52.078454    81.447635\n",
              "std       1.252193    15.220931     9.700884\n",
              "min      23.300000    22.340000    54.000000\n",
              "25%      25.400000    42.820000    74.000000\n",
              "50%      26.400000    50.280000    81.000000\n",
              "75%      27.300000    61.000000    90.000000\n",
              "max      29.400000    99.000000    95.000000"
            ]
          },
          "metadata": {},
          "execution_count": 21
        }
      ]
    },
    {
      "cell_type": "code",
      "metadata": {
        "colab": {
          "base_uri": "https://localhost:8080/",
          "height": 265
        },
        "id": "RD9D3BquCGJv",
        "outputId": "80961eb4-bc8d-4ec2-8502-d1cebdc26422"
      },
      "source": [
        "# ↑湿度の標準偏差が減少し、最大値と最小値が正常になった\n",
        "\n",
        "# 整形後のデータを可視化\n",
        "plt.plot(new_df.記録日, new_df.気温, color = 'red', marker = 'o')\n",
        "plt.plot(new_df.記録日, new_df.湿度, color = 'blue', marker = 'o')\n",
        "plt.plot(new_df.記録日, new_df.土中湿度, color = 'black', marker = 'o')\n",
        "plt.show()"
      ],
      "execution_count": 22,
      "outputs": [
        {
          "output_type": "display_data",
          "data": {
            "image/png": "[encoded data removed]",
            "text/plain": [
              "<Figure size 432x288 with 1 Axes>"
            ]
          },
          "metadata": {
            "needs_background": "light"
          }
        }
      ]
    },
    {
      "cell_type": "code",
      "metadata": {
        "colab": {
          "base_uri": "https://localhost:8080/",
          "height": 921
        },
        "id": "8PC3HUiJ14vF",
        "outputId": "5f53ccbf-75f2-452c-8dae-436937fef291"
      },
      "source": [
        "# ダミーで教師データを付与\n",
        "\n",
        "new_df.head()\n",
        "\n",
        "new_df = new_df.drop('作物PK',axis=1)\n",
        "\n",
        "new_df.head()\n",
        "\n",
        "new_df['元気'] = 0\n",
        "\n",
        "# 土中湿度-60:元気0\n",
        "# 60-65:元気1\n",
        "# 65-70:元気2\n",
        "# 70-:元気３\n",
        "new_df.loc[new_df['土中湿度']<=60,'元気'] = 0\n",
        "new_df.loc[new_df['土中湿度']>=60,'元気'] = 1\n",
        "new_df.loc[new_df['土中湿度']>=65,'元気'] = 2\n",
        "new_df.loc[new_df['土中湿度']>=70,'元気'] = 3\n",
        "\n",
        "\n",
        "new_df.describe()\n",
        "\n",
        "new_df.info()\n",
        "\n",
        "new_df[\"土中湿度\"]  =new_df[\"土中湿度\"] .astype('float64')\n",
        "\n",
        "new_df.to_csv(\"for_coreML.csv\")\n",
        "\n",
        "X_train, X_test, y_train, y_test = train_test_split(new_df[['気温','湿度','土中湿度']], new_df.元気, random_state=0)\n"
      ],
      "execution_count": 2,
      "outputs": [
        {
          "output_type": "stream",
          "name": "stdout",
          "text": [
            "<class 'pandas.core.frame.DataFrame'>\n",
            "RangeIndex: 1391 entries, 0 to 1390\n",
            "Data columns (total 5 columns):\n",
            " #   Column  Non-Null Count  Dtype  \n",
            "---  ------  --------------  -----  \n",
            " 0   記録日     1391 non-null   object \n",
            " 1   作物PK    1391 non-null   object \n",
            " 2   気温      1391 non-null   float64\n",
            " 3   湿度      1391 non-null   float64\n",
            " 4   土中湿度    1391 non-null   int64  \n",
            "dtypes: float64(2), int64(1), object(2)\n",
            "memory usage: 54.5+ KB\n"
          ]
        },
        {
          "output_type": "display_data",
          "data": {
            "image/png": "[encoded data removed]",
            "text/plain": [
              "<Figure size 432x288 with 1 Axes>"
            ]
          },
          "metadata": {
            "needs_background": "light"
          }
        },
        {
          "output_type": "display_data",
          "data": {
            "image/png": "[encoded data removed]",
            "text/plain": [
              "<Figure size 432x288 with 1 Axes>"
            ]
          },
          "metadata": {
            "needs_background": "light"
          }
        },
        {
          "output_type": "stream",
          "name": "stdout",
          "text": [
            "<class 'pandas.core.frame.DataFrame'>\n",
            "Int64Index: 1184 entries, 0 to 1390\n",
            "Data columns (total 5 columns):\n",
            " #   Column  Non-Null Count  Dtype  \n",
            "---  ------  --------------  -----  \n",
            " 0   記録日     1184 non-null   object \n",
            " 1   気温      1184 non-null   float64\n",
            " 2   湿度      1184 non-null   float64\n",
            " 3   土中湿度    1184 non-null   int64  \n",
            " 4   元気      1184 non-null   int64  \n",
            "dtypes: float64(2), int64(2), object(1)\n",
            "memory usage: 55.5+ KB\n"
          ]
        }
      ]
    },
    {
      "cell_type": "code",
      "metadata": {
        "colab": {
          "base_uri": "https://localhost:8080/"
        },
        "id": "VlnAQhy314vG",
        "outputId": "f0252abd-bff1-4ae6-9194-cf6e0637571b"
      },
      "source": [
        "\n",
        "clf = LinearRegression()\n",
        "clf.fit(X_train, y_train)\n",
        "\n",
        "print(clf.predict([[0, 0,  90]]))\n",
        "\n",
        "y_pred =clf.predict(X_test)\n",
        "\n",
        "\n",
        "\n",
        "accuracy_score(y_pred.round().astype(int), y_test)\n",
        "\n",
        "# CoreMLに変換\n",
        "import coremltools\n",
        "coreml_model = coremltools.converters.sklearn.convert(clf,[\"temp\",\"humid\",\"modhumid\"])\n",
        "coreml_model.save( 'my_model.mlmodel')\n",
        "\n",
        "pred = clf.predict(new_df[['気温','湿度','土中湿度']])\n",
        "\n",
        "type(pred)\n",
        "\n",
        "df_pred=new_df.copy()\n",
        "\n",
        "df_pred['元気']  =pred\n",
        "\n",
        "df_pred  =df_pred.rename(columns={'記録日':'予測基準日','元気':'予測元気'})\n",
        "\n",
        "df_pred\n",
        "\n",
        "df_pred['FK_作物'] = '6D52FE12-997F-40F7-80BD-2B6A96A7FB1A'\n",
        "\n",
        "# df_pred.to_csv('pred.csv')"
      ],
      "execution_count": 14,
      "outputs": [
        {
          "output_type": "stream",
          "name": "stdout",
          "text": [
            "[4.7957643]\n"
          ]
        }
      ]
    },
    {
      "cell_type": "code",
      "metadata": {
        "colab": {
          "base_uri": "https://localhost:8080/"
        },
        "id": "ui7Uv-fB4Ogh",
        "outputId": "6f326c18-0699-47c2-aa22-ea98161c0e21"
      },
      "source": [
        "accuracy_score(y_pred.round().astype(int), y_test)"
      ],
      "execution_count": 15,
      "outputs": [
        {
          "output_type": "execute_result",
          "data": {
            "text/plain": [
              "0.9054054054054054"
            ]
          },
          "metadata": {},
          "execution_count": 15
        }
      ]
    },
    {
      "cell_type": "code",
      "metadata": {
        "id": "msT9ygrH_ueY"
      },
      "source": [
        "\n",
        "df_data['元気'] = 0\n",
        "\n",
        "# 土中湿度-60:元気0\n",
        "# 60-65:元気1\n",
        "# 65-70:元気2\n",
        "# 70-:元気３\n",
        "df_data.loc[df_data['土中湿度']<=60,'元気'] = 0\n",
        "df_data.loc[df_data['土中湿度']>=60,'元気'] = 1\n",
        "df_data.loc[df_data['土中湿度']>=65,'元気'] = 2\n",
        "df_data.loc[df_data['土中湿度']>=70,'元気'] = 3\n",
        "\n"
      ],
      "execution_count": 25,
      "outputs": []
    },
    {
      "cell_type": "code",
      "metadata": {
        "id": "EycQsEDjDbQT"
      },
      "source": [
        "df_data=df_data.drop(\"Unnamed: 0\", axis=1)"
      ],
      "execution_count": 41,
      "outputs": []
    },
    {
      "cell_type": "code",
      "metadata": {
        "id": "7PoY_s3yDe2N"
      },
      "source": [
        "df_data.to_csv(\"/content/FileMaker-coreML/取り込み用.csv\",index=False)"
      ],
      "execution_count": 42,
      "outputs": []
    },
    {
      "cell_type": "code",
      "metadata": {
        "id": "9o_aqZ_pD9rW"
      },
      "source": [
        ""
      ],
      "execution_count": null,
      "outputs": []
    }
  ]
}